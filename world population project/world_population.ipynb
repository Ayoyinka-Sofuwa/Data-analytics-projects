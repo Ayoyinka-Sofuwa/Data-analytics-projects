{
 "cells": [
  {
   "cell_type": "code",
   "execution_count": 1,
   "metadata": {},
   "outputs": [],
   "source": [
    "import pandas as pd\n",
    "import numpy as np\n",
    "import ydata_profiling as yp"
   ]
  },
  {
   "attachments": {},
   "cell_type": "markdown",
   "metadata": {},
   "source": [
    "#yp.ProfileReport(df)"
   ]
  },
  {
   "cell_type": "code",
   "execution_count": 22,
   "metadata": {},
   "outputs": [],
   "source": [
    "data = pd.read_csv(\"~/Downloads/data-analytics-projects/world population project/world_population_data.csv\", encoding='utf-8')"
   ]
  },
  {
   "cell_type": "code",
   "execution_count": 23,
   "metadata": {},
   "outputs": [
    {
     "data": {
      "text/html": [
       "<div>\n",
       "<style scoped>\n",
       "    .dataframe tbody tr th:only-of-type {\n",
       "        vertical-align: middle;\n",
       "    }\n",
       "\n",
       "    .dataframe tbody tr th {\n",
       "        vertical-align: top;\n",
       "    }\n",
       "\n",
       "    .dataframe thead th {\n",
       "        text-align: right;\n",
       "    }\n",
       "</style>\n",
       "<table border=\"1\" class=\"dataframe\">\n",
       "  <thead>\n",
       "    <tr style=\"text-align: right;\">\n",
       "      <th></th>\n",
       "      <th>Unnamed: 0</th>\n",
       "      <th>rank</th>\n",
       "      <th>cca3</th>\n",
       "      <th>country</th>\n",
       "      <th>continent</th>\n",
       "      <th>2023 population</th>\n",
       "      <th>2022 population</th>\n",
       "      <th>2020 population</th>\n",
       "      <th>2015 population</th>\n",
       "      <th>2010 population</th>\n",
       "      <th>2000 population</th>\n",
       "      <th>1990 population</th>\n",
       "      <th>1980 population</th>\n",
       "      <th>1970 population</th>\n",
       "      <th>area (km²)</th>\n",
       "      <th>density (km²)</th>\n",
       "      <th>growth rate</th>\n",
       "      <th>world percentage</th>\n",
       "    </tr>\n",
       "  </thead>\n",
       "  <tbody>\n",
       "    <tr>\n",
       "      <th>229</th>\n",
       "      <td>229</td>\n",
       "      <td>230</td>\n",
       "      <td>MSR</td>\n",
       "      <td>Montserrat</td>\n",
       "      <td>North America</td>\n",
       "      <td>4386</td>\n",
       "      <td>4390</td>\n",
       "      <td>4500</td>\n",
       "      <td>5059</td>\n",
       "      <td>4938</td>\n",
       "      <td>5138</td>\n",
       "      <td>10805</td>\n",
       "      <td>11452</td>\n",
       "      <td>11402</td>\n",
       "      <td>102.00</td>\n",
       "      <td>43</td>\n",
       "      <td>-0.09%</td>\n",
       "      <td>0.00%</td>\n",
       "    </tr>\n",
       "    <tr>\n",
       "      <th>230</th>\n",
       "      <td>230</td>\n",
       "      <td>231</td>\n",
       "      <td>FLK</td>\n",
       "      <td>Falkland Islands</td>\n",
       "      <td>South America</td>\n",
       "      <td>3791</td>\n",
       "      <td>3780</td>\n",
       "      <td>3747</td>\n",
       "      <td>3408</td>\n",
       "      <td>3187</td>\n",
       "      <td>3080</td>\n",
       "      <td>2332</td>\n",
       "      <td>2240</td>\n",
       "      <td>2274</td>\n",
       "      <td>12173.00</td>\n",
       "      <td>0</td>\n",
       "      <td>0.29%</td>\n",
       "      <td>0.00%</td>\n",
       "    </tr>\n",
       "    <tr>\n",
       "      <th>231</th>\n",
       "      <td>231</td>\n",
       "      <td>232</td>\n",
       "      <td>NIU</td>\n",
       "      <td>Niue</td>\n",
       "      <td>Oceania</td>\n",
       "      <td>1935</td>\n",
       "      <td>1934</td>\n",
       "      <td>1942</td>\n",
       "      <td>1847</td>\n",
       "      <td>1812</td>\n",
       "      <td>2074</td>\n",
       "      <td>2533</td>\n",
       "      <td>3637</td>\n",
       "      <td>5185</td>\n",
       "      <td>261.00</td>\n",
       "      <td>7</td>\n",
       "      <td>0.05%</td>\n",
       "      <td>0.00%</td>\n",
       "    </tr>\n",
       "    <tr>\n",
       "      <th>232</th>\n",
       "      <td>232</td>\n",
       "      <td>233</td>\n",
       "      <td>TKL</td>\n",
       "      <td>Tokelau</td>\n",
       "      <td>Oceania</td>\n",
       "      <td>1893</td>\n",
       "      <td>1871</td>\n",
       "      <td>1827</td>\n",
       "      <td>1454</td>\n",
       "      <td>1367</td>\n",
       "      <td>1666</td>\n",
       "      <td>1669</td>\n",
       "      <td>1647</td>\n",
       "      <td>1714</td>\n",
       "      <td>12.00</td>\n",
       "      <td>189</td>\n",
       "      <td>1.18%</td>\n",
       "      <td>0.00%</td>\n",
       "    </tr>\n",
       "    <tr>\n",
       "      <th>233</th>\n",
       "      <td>233</td>\n",
       "      <td>234</td>\n",
       "      <td>VAT</td>\n",
       "      <td>Vatican City</td>\n",
       "      <td>Europe</td>\n",
       "      <td>518</td>\n",
       "      <td>510</td>\n",
       "      <td>520</td>\n",
       "      <td>564</td>\n",
       "      <td>596</td>\n",
       "      <td>651</td>\n",
       "      <td>700</td>\n",
       "      <td>733</td>\n",
       "      <td>752</td>\n",
       "      <td>0.44</td>\n",
       "      <td>1177</td>\n",
       "      <td>1.57%</td>\n",
       "      <td>0.00%</td>\n",
       "    </tr>\n",
       "  </tbody>\n",
       "</table>\n",
       "</div>"
      ],
      "text/plain": [
       "     Unnamed: 0  rank cca3           country      continent  2023 population  \\\n",
       "229         229   230  MSR        Montserrat  North America             4386   \n",
       "230         230   231  FLK  Falkland Islands  South America             3791   \n",
       "231         231   232  NIU              Niue        Oceania             1935   \n",
       "232         232   233  TKL           Tokelau        Oceania             1893   \n",
       "233         233   234  VAT      Vatican City         Europe              518   \n",
       "\n",
       "     2022 population  2020 population  2015 population  2010 population  \\\n",
       "229             4390             4500             5059             4938   \n",
       "230             3780             3747             3408             3187   \n",
       "231             1934             1942             1847             1812   \n",
       "232             1871             1827             1454             1367   \n",
       "233              510              520              564              596   \n",
       "\n",
       "     2000 population  1990 population  1980 population  1970 population  \\\n",
       "229             5138            10805            11452            11402   \n",
       "230             3080             2332             2240             2274   \n",
       "231             2074             2533             3637             5185   \n",
       "232             1666             1669             1647             1714   \n",
       "233              651              700              733              752   \n",
       "\n",
       "     area (km²)  density (km²) growth rate world percentage  \n",
       "229      102.00             43      -0.09%            0.00%  \n",
       "230    12173.00              0       0.29%            0.00%  \n",
       "231      261.00              7       0.05%            0.00%  \n",
       "232       12.00            189       1.18%            0.00%  \n",
       "233        0.44           1177       1.57%            0.00%  "
      ]
     },
     "execution_count": 23,
     "metadata": {},
     "output_type": "execute_result"
    }
   ],
   "source": [
    "data.tail()"
   ]
  },
  {
   "cell_type": "code",
   "execution_count": 27,
   "metadata": {},
   "outputs": [
    {
     "data": {
      "text/plain": [
       "rank                    181\n",
       "cca3                    MYT\n",
       "country             Mayotte\n",
       "continent            Africa\n",
       "2023 population      335995\n",
       "2022 population      326101\n",
       "2020 population      305587\n",
       "2015 population      249545\n",
       "2010 population      211786\n",
       "2000 population      159215\n",
       "1990 population       92659\n",
       "1980 population       52233\n",
       "1970 population       35383\n",
       "area (km²)            374.0\n",
       "density (km²)           898\n",
       "growth rate           3.03%\n",
       "world percentage      0.00%\n",
       "Name: 180, dtype: object"
      ]
     },
     "execution_count": 27,
     "metadata": {},
     "output_type": "execute_result"
    }
   ],
   "source": [
    "data.iloc[180]"
   ]
  },
  {
   "cell_type": "code",
   "execution_count": 28,
   "metadata": {},
   "outputs": [
    {
     "name": "stdout",
     "output_type": "stream",
     "text": [
      "<class 'pandas.core.frame.DataFrame'>\n",
      "RangeIndex: 234 entries, 0 to 233\n",
      "Data columns (total 17 columns):\n",
      " #   Column            Non-Null Count  Dtype  \n",
      "---  ------            --------------  -----  \n",
      " 0   rank              234 non-null    int64  \n",
      " 1   cca3              234 non-null    object \n",
      " 2   country           234 non-null    object \n",
      " 3   continent         234 non-null    object \n",
      " 4   2023 population   234 non-null    int64  \n",
      " 5   2022 population   234 non-null    int64  \n",
      " 6   2020 population   234 non-null    int64  \n",
      " 7   2015 population   234 non-null    int64  \n",
      " 8   2010 population   234 non-null    int64  \n",
      " 9   2000 population   234 non-null    int64  \n",
      " 10  1990 population   234 non-null    int64  \n",
      " 11  1980 population   234 non-null    int64  \n",
      " 12  1970 population   234 non-null    int64  \n",
      " 13  area (km²)        234 non-null    float64\n",
      " 14  density (km²)     234 non-null    int64  \n",
      " 15  growth rate       234 non-null    object \n",
      " 16  world percentage  234 non-null    object \n",
      "dtypes: float64(1), int64(11), object(5)\n",
      "memory usage: 31.2+ KB\n"
     ]
    }
   ],
   "source": [
    "data.info()"
   ]
  },
  {
   "cell_type": "code",
   "execution_count": 25,
   "metadata": {},
   "outputs": [],
   "source": [
    "data = data.drop('Unnamed: 0', axis = 1)"
   ]
  },
  {
   "cell_type": "code",
   "execution_count": 26,
   "metadata": {},
   "outputs": [],
   "source": [
    "data.to_csv(\"~/Downloads/data-analytics-projects/world population project/world_population_data.csv\", index=False)"
   ]
  },
  {
   "cell_type": "code",
   "execution_count": null,
   "metadata": {},
   "outputs": [],
   "source": [
    "df = pd.read_csv('your_file.csv', encoding='utf-8')"
   ]
  }
 ],
 "metadata": {
  "kernelspec": {
   "display_name": "Python 3",
   "language": "python",
   "name": "python3"
  },
  "language_info": {
   "codemirror_mode": {
    "name": "ipython",
    "version": 3
   },
   "file_extension": ".py",
   "mimetype": "text/x-python",
   "name": "python",
   "nbconvert_exporter": "python",
   "pygments_lexer": "ipython3",
   "version": "3.9.6 (default, Nov  7 2022, 23:33:46) \n[Clang 14.0.0 (clang-1400.0.29.102)]"
  },
  "orig_nbformat": 4,
  "vscode": {
   "interpreter": {
    "hash": "9e1518b310e1ed939994a6b34f2e1b7757368590835a3c4eea23eaf2a737407d"
   }
  }
 },
 "nbformat": 4,
 "nbformat_minor": 2
}
