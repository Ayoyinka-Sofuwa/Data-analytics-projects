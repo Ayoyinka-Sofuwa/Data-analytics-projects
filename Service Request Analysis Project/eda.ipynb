{
 "cells": [
  {
   "cell_type": "code",
   "execution_count": 1,
   "metadata": {},
   "outputs": [],
   "source": [
    "import pandas as pd\n",
    "import numpy as np"
   ]
  },
  {
   "cell_type": "code",
   "execution_count": 13,
   "metadata": {},
   "outputs": [
    {
     "data": {
      "text/html": [
       "<div>\n",
       "<style scoped>\n",
       "    .dataframe tbody tr th:only-of-type {\n",
       "        vertical-align: middle;\n",
       "    }\n",
       "\n",
       "    .dataframe tbody tr th {\n",
       "        vertical-align: top;\n",
       "    }\n",
       "\n",
       "    .dataframe thead th {\n",
       "        text-align: right;\n",
       "    }\n",
       "</style>\n",
       "<table border=\"1\" class=\"dataframe\">\n",
       "  <thead>\n",
       "    <tr style=\"text-align: right;\">\n",
       "      <th></th>\n",
       "      <th>Reference Id</th>\n",
       "      <th>Name</th>\n",
       "      <th>Off-time Status</th>\n",
       "      <th>Off-time Duration (Days)</th>\n",
       "      <th>Requester Name</th>\n",
       "      <th>Requester Department</th>\n",
       "      <th>Requester Eid</th>\n",
       "      <th>Requesting Date Time</th>\n",
       "      <th>Service Department</th>\n",
       "      <th>Service Unit</th>\n",
       "      <th>...</th>\n",
       "      <th>Workflow Status</th>\n",
       "      <th>Date Time Picked</th>\n",
       "      <th>Resolved By</th>\n",
       "      <th>Task Owner Department</th>\n",
       "      <th>Created</th>\n",
       "      <th>SROfftime Status</th>\n",
       "      <th>Smiley Sent</th>\n",
       "      <th>Final Rating</th>\n",
       "      <th>Year</th>\n",
       "      <th>Request Picked</th>\n",
       "    </tr>\n",
       "  </thead>\n",
       "  <tbody>\n",
       "    <tr>\n",
       "      <th>0</th>\n",
       "      <td>RSSRP-17248</td>\n",
       "      <td>Service Request - 2022-02-28T11_45_25.xml</td>\n",
       "      <td>On-Time</td>\n",
       "      <td>0.0</td>\n",
       "      <td>Mohammad Shahnawaz Alam</td>\n",
       "      <td>Facilities</td>\n",
       "      <td>701000244</td>\n",
       "      <td>2/28/22 11:46</td>\n",
       "      <td>Procurement Management</td>\n",
       "      <td>PMG: Purchasing &amp; Supply</td>\n",
       "      <td>...</td>\n",
       "      <td>Survey Completed</td>\n",
       "      <td>2/28/22 13:09</td>\n",
       "      <td>Ebenezer Israel</td>\n",
       "      <td>Procurement Management</td>\n",
       "      <td>2/28/22 11:46</td>\n",
       "      <td>NaN</td>\n",
       "      <td>No</td>\n",
       "      <td>Excellent</td>\n",
       "      <td>2022</td>\n",
       "      <td>1</td>\n",
       "    </tr>\n",
       "    <tr>\n",
       "      <th>1</th>\n",
       "      <td>RSSRP-17249</td>\n",
       "      <td>Service Request - 2022-02-28T11_46_26.xml</td>\n",
       "      <td>On-Time</td>\n",
       "      <td>0.0</td>\n",
       "      <td>Mohammad Shahnawaz Alam</td>\n",
       "      <td>Facilities</td>\n",
       "      <td>701000244</td>\n",
       "      <td>2/28/22 11:47</td>\n",
       "      <td>Procurement Management</td>\n",
       "      <td>PMG: Purchasing &amp; Supply</td>\n",
       "      <td>...</td>\n",
       "      <td>Survey Completed</td>\n",
       "      <td>2/28/22 13:09</td>\n",
       "      <td>Ebenezer Israel</td>\n",
       "      <td>Procurement Management</td>\n",
       "      <td>2/28/22 11:47</td>\n",
       "      <td>NaN</td>\n",
       "      <td>No</td>\n",
       "      <td>Excellent</td>\n",
       "      <td>2022</td>\n",
       "      <td>1</td>\n",
       "    </tr>\n",
       "    <tr>\n",
       "      <th>2</th>\n",
       "      <td>RSSRP-17250</td>\n",
       "      <td>Service Request - 2022-02-28T11_47_27.xml</td>\n",
       "      <td>On-Time</td>\n",
       "      <td>0.0</td>\n",
       "      <td>Mohammad Shahnawaz Alam</td>\n",
       "      <td>Facilities</td>\n",
       "      <td>701000244</td>\n",
       "      <td>2/28/22 11:48</td>\n",
       "      <td>Procurement Management</td>\n",
       "      <td>PMG: Purchasing &amp; Supply</td>\n",
       "      <td>...</td>\n",
       "      <td>Survey Completed</td>\n",
       "      <td>2/28/22 13:09</td>\n",
       "      <td>Ebenezer Israel</td>\n",
       "      <td>Procurement Management</td>\n",
       "      <td>2/28/22 11:48</td>\n",
       "      <td>NaN</td>\n",
       "      <td>No</td>\n",
       "      <td>Excellent</td>\n",
       "      <td>2022</td>\n",
       "      <td>1</td>\n",
       "    </tr>\n",
       "    <tr>\n",
       "      <th>3</th>\n",
       "      <td>RSSRP-17252</td>\n",
       "      <td>Service Request - 2022-03-01T13_47_14.xml</td>\n",
       "      <td>On-Time</td>\n",
       "      <td>0.0</td>\n",
       "      <td>Ugochukwu Afulike</td>\n",
       "      <td>Subsea</td>\n",
       "      <td>803000065</td>\n",
       "      <td>3/1/22 13:48</td>\n",
       "      <td>Procurement Management</td>\n",
       "      <td>PMG: Reports</td>\n",
       "      <td>...</td>\n",
       "      <td>Survey Completed</td>\n",
       "      <td>3/3/22 12:48</td>\n",
       "      <td>Ebenezer Israel</td>\n",
       "      <td>Procurement Management</td>\n",
       "      <td>3/1/22 13:48</td>\n",
       "      <td>NaN</td>\n",
       "      <td>No</td>\n",
       "      <td>Excellent</td>\n",
       "      <td>2022</td>\n",
       "      <td>1</td>\n",
       "    </tr>\n",
       "    <tr>\n",
       "      <th>4</th>\n",
       "      <td>RSSRP-17253</td>\n",
       "      <td>Service Request - 2022-03-02T12_52_12.xml</td>\n",
       "      <td>On-Time</td>\n",
       "      <td>0.0</td>\n",
       "      <td>John Lawal</td>\n",
       "      <td>Commercials</td>\n",
       "      <td>701000248</td>\n",
       "      <td>3/2/22 12:52</td>\n",
       "      <td>Topsides</td>\n",
       "      <td>TSD: Topsides Division - Project Planning</td>\n",
       "      <td>...</td>\n",
       "      <td>Survey Completed</td>\n",
       "      <td>3/4/22 11:55</td>\n",
       "      <td>David Eyen Utibe</td>\n",
       "      <td>Topsides</td>\n",
       "      <td>3/2/22 12:52</td>\n",
       "      <td>NaN</td>\n",
       "      <td>No</td>\n",
       "      <td>Good</td>\n",
       "      <td>2022</td>\n",
       "      <td>1</td>\n",
       "    </tr>\n",
       "  </tbody>\n",
       "</table>\n",
       "<p>5 rows × 22 columns</p>\n",
       "</div>"
      ],
      "text/plain": [
       "  Reference Id                                       Name Off-time Status  \\\n",
       "0  RSSRP-17248  Service Request - 2022-02-28T11_45_25.xml         On-Time   \n",
       "1  RSSRP-17249  Service Request - 2022-02-28T11_46_26.xml         On-Time   \n",
       "2  RSSRP-17250  Service Request - 2022-02-28T11_47_27.xml         On-Time   \n",
       "3  RSSRP-17252  Service Request - 2022-03-01T13_47_14.xml         On-Time   \n",
       "4  RSSRP-17253  Service Request - 2022-03-02T12_52_12.xml         On-Time   \n",
       "\n",
       "   Off-time Duration (Days)           Requester Name Requester Department  \\\n",
       "0                       0.0  Mohammad Shahnawaz Alam           Facilities   \n",
       "1                       0.0  Mohammad Shahnawaz Alam           Facilities   \n",
       "2                       0.0  Mohammad Shahnawaz Alam           Facilities   \n",
       "3                       0.0        Ugochukwu Afulike               Subsea   \n",
       "4                       0.0               John Lawal          Commercials   \n",
       "\n",
       "  Requester Eid Requesting Date Time      Service Department  \\\n",
       "0     701000244        2/28/22 11:46  Procurement Management   \n",
       "1     701000244        2/28/22 11:47  Procurement Management   \n",
       "2     701000244        2/28/22 11:48  Procurement Management   \n",
       "3     803000065         3/1/22 13:48  Procurement Management   \n",
       "4     701000248         3/2/22 12:52                Topsides   \n",
       "\n",
       "                                Service Unit  ...   Workflow Status  \\\n",
       "0                   PMG: Purchasing & Supply  ...  Survey Completed   \n",
       "1                   PMG: Purchasing & Supply  ...  Survey Completed   \n",
       "2                   PMG: Purchasing & Supply  ...  Survey Completed   \n",
       "3                               PMG: Reports  ...  Survey Completed   \n",
       "4  TSD: Topsides Division - Project Planning  ...  Survey Completed   \n",
       "\n",
       "  Date Time Picked       Resolved By   Task Owner Department        Created  \\\n",
       "0    2/28/22 13:09   Ebenezer Israel  Procurement Management  2/28/22 11:46   \n",
       "1    2/28/22 13:09   Ebenezer Israel  Procurement Management  2/28/22 11:47   \n",
       "2    2/28/22 13:09   Ebenezer Israel  Procurement Management  2/28/22 11:48   \n",
       "3     3/3/22 12:48   Ebenezer Israel  Procurement Management   3/1/22 13:48   \n",
       "4     3/4/22 11:55  David Eyen Utibe                Topsides   3/2/22 12:52   \n",
       "\n",
       "  SROfftime Status Smiley Sent Final Rating  Year Request Picked  \n",
       "0              NaN          No    Excellent  2022              1  \n",
       "1              NaN          No    Excellent  2022              1  \n",
       "2              NaN          No    Excellent  2022              1  \n",
       "3              NaN          No    Excellent  2022              1  \n",
       "4              NaN          No         Good  2022              1  \n",
       "\n",
       "[5 rows x 22 columns]"
      ]
     },
     "execution_count": 13,
     "metadata": {},
     "output_type": "execute_result"
    }
   ],
   "source": [
    "data = pd.read_csv('~/Desktop/Data Analyst Work Sample  Assessment - Data.csv')\n",
    "\n",
    "data.head()"
   ]
  },
  {
   "cell_type": "code",
   "execution_count": 14,
   "metadata": {},
   "outputs": [
    {
     "name": "stdout",
     "output_type": "stream",
     "text": [
      "<class 'pandas.core.frame.DataFrame'>\n",
      "RangeIndex: 3537 entries, 0 to 3536\n",
      "Data columns (total 22 columns):\n",
      " #   Column                    Non-Null Count  Dtype  \n",
      "---  ------                    --------------  -----  \n",
      " 0   Reference Id              3537 non-null   object \n",
      " 1   Name                      3537 non-null   object \n",
      " 2   Off-time Status           3537 non-null   object \n",
      " 3   Off-time Duration (Days)  3537 non-null   float64\n",
      " 4   Requester Name            3536 non-null   object \n",
      " 5   Requester Department      3536 non-null   object \n",
      " 6   Requester Eid             3536 non-null   object \n",
      " 7   Requesting Date Time      3537 non-null   object \n",
      " 8   Service Department        3537 non-null   object \n",
      " 9   Service Unit              3537 non-null   object \n",
      " 10  SLA Hours                 3537 non-null   int64  \n",
      " 11  Picked By                 3523 non-null   object \n",
      " 12  Workflow Status           3537 non-null   object \n",
      " 13  Date Time Picked          3525 non-null   object \n",
      " 14  Resolved By               3518 non-null   object \n",
      " 15  Task Owner Department     3534 non-null   object \n",
      " 16  Created                   3537 non-null   object \n",
      " 17  SROfftime Status          228 non-null    object \n",
      " 18  Smiley Sent               3484 non-null   object \n",
      " 19  Final Rating              3500 non-null   object \n",
      " 20  Year                      3537 non-null   int64  \n",
      " 21  Request Picked            3537 non-null   int64  \n",
      "dtypes: float64(1), int64(3), object(18)\n",
      "memory usage: 608.0+ KB\n"
     ]
    }
   ],
   "source": [
    "data.info()"
   ]
  },
  {
   "cell_type": "code",
   "execution_count": 15,
   "metadata": {},
   "outputs": [
    {
     "data": {
      "text/plain": [
       "Reference Id                False\n",
       "Name                        False\n",
       "Off-time Status             False\n",
       "Off-time Duration (Days)    False\n",
       "Requester Name               True\n",
       "Requester Department         True\n",
       "Requester Eid                True\n",
       "Requesting Date Time        False\n",
       "Service Department          False\n",
       "Service Unit                False\n",
       "SLA Hours                   False\n",
       "Picked By                    True\n",
       "Workflow Status             False\n",
       "Date Time Picked             True\n",
       "Resolved By                  True\n",
       "Task Owner Department        True\n",
       "Created                     False\n",
       "SROfftime Status             True\n",
       "Smiley Sent                  True\n",
       "Final Rating                 True\n",
       "Year                        False\n",
       "Request Picked              False\n",
       "dtype: bool"
      ]
     },
     "execution_count": 15,
     "metadata": {},
     "output_type": "execute_result"
    }
   ],
   "source": [
    "data.isnull().any()"
   ]
  },
  {
   "cell_type": "code",
   "execution_count": 16,
   "metadata": {},
   "outputs": [
    {
     "data": {
      "text/plain": [
       "Reference Id                   0\n",
       "Name                           0\n",
       "Off-time Status                0\n",
       "Off-time Duration (Days)       0\n",
       "Requester Name                 1\n",
       "Requester Department           1\n",
       "Requester Eid                  1\n",
       "Requesting Date Time           0\n",
       "Service Department             0\n",
       "Service Unit                   0\n",
       "SLA Hours                      0\n",
       "Picked By                     14\n",
       "Workflow Status                0\n",
       "Date Time Picked              12\n",
       "Resolved By                   19\n",
       "Task Owner Department          3\n",
       "Created                        0\n",
       "SROfftime Status            3309\n",
       "Smiley Sent                   53\n",
       "Final Rating                  37\n",
       "Year                           0\n",
       "Request Picked                 0\n",
       "dtype: int64"
      ]
     },
     "execution_count": 16,
     "metadata": {},
     "output_type": "execute_result"
    }
   ],
   "source": [
    "data.isnull().sum()"
   ]
  },
  {
   "cell_type": "code",
   "execution_count": 17,
   "metadata": {},
   "outputs": [
    {
     "name": "stdout",
     "output_type": "stream",
     "text": [
      "<class 'pandas.core.frame.DataFrame'>\n",
      "RangeIndex: 3537 entries, 0 to 3536\n",
      "Data columns (total 22 columns):\n",
      " #   Column                    Non-Null Count  Dtype  \n",
      "---  ------                    --------------  -----  \n",
      " 0   Reference Id              3537 non-null   object \n",
      " 1   Name                      3537 non-null   object \n",
      " 2   Off-time Status           3537 non-null   object \n",
      " 3   Off-time Duration (Days)  3537 non-null   float64\n",
      " 4   Requester Name            3536 non-null   object \n",
      " 5   Requester Department      3536 non-null   object \n",
      " 6   Requester Eid             3536 non-null   object \n",
      " 7   Requesting Date Time      3537 non-null   object \n",
      " 8   Service Department        3537 non-null   object \n",
      " 9   Service Unit              3537 non-null   object \n",
      " 10  SLA Hours                 3537 non-null   int64  \n",
      " 11  Picked By                 3523 non-null   object \n",
      " 12  Workflow Status           3537 non-null   object \n",
      " 13  Date Time Picked          3525 non-null   object \n",
      " 14  Resolved By               3518 non-null   object \n",
      " 15  Task Owner Department     3534 non-null   object \n",
      " 16  Created                   3537 non-null   object \n",
      " 17  SROfftime Status          228 non-null    object \n",
      " 18  Smiley Sent               3484 non-null   object \n",
      " 19  Final Rating              3500 non-null   object \n",
      " 20  Year                      3537 non-null   int64  \n",
      " 21  Request Picked            3537 non-null   int64  \n",
      "dtypes: float64(1), int64(3), object(18)\n",
      "memory usage: 608.0+ KB\n"
     ]
    }
   ],
   "source": [
    "data.info()"
   ]
  },
  {
   "attachments": {},
   "cell_type": "markdown",
   "metadata": {},
   "source": [
    "* drop SROfftime Status, drop smiley sent, drop other missing values."
   ]
  },
  {
   "cell_type": "code",
   "execution_count": 20,
   "metadata": {},
   "outputs": [],
   "source": [
    "data.drop(['SROfftime Status', 'Smiley Sent'], axis=1, inplace=True )"
   ]
  },
  {
   "cell_type": "code",
   "execution_count": 21,
   "metadata": {},
   "outputs": [
    {
     "name": "stdout",
     "output_type": "stream",
     "text": [
      "<class 'pandas.core.frame.DataFrame'>\n",
      "RangeIndex: 3537 entries, 0 to 3536\n",
      "Data columns (total 20 columns):\n",
      " #   Column                    Non-Null Count  Dtype  \n",
      "---  ------                    --------------  -----  \n",
      " 0   Reference Id              3537 non-null   object \n",
      " 1   Name                      3537 non-null   object \n",
      " 2   Off-time Status           3537 non-null   object \n",
      " 3   Off-time Duration (Days)  3537 non-null   float64\n",
      " 4   Requester Name            3536 non-null   object \n",
      " 5   Requester Department      3536 non-null   object \n",
      " 6   Requester Eid             3536 non-null   object \n",
      " 7   Requesting Date Time      3537 non-null   object \n",
      " 8   Service Department        3537 non-null   object \n",
      " 9   Service Unit              3537 non-null   object \n",
      " 10  SLA Hours                 3537 non-null   int64  \n",
      " 11  Picked By                 3523 non-null   object \n",
      " 12  Workflow Status           3537 non-null   object \n",
      " 13  Date Time Picked          3525 non-null   object \n",
      " 14  Resolved By               3518 non-null   object \n",
      " 15  Task Owner Department     3534 non-null   object \n",
      " 16  Created                   3537 non-null   object \n",
      " 17  Final Rating              3500 non-null   object \n",
      " 18  Year                      3537 non-null   int64  \n",
      " 19  Request Picked            3537 non-null   int64  \n",
      "dtypes: float64(1), int64(3), object(16)\n",
      "memory usage: 552.8+ KB\n"
     ]
    }
   ],
   "source": [
    "data.info()"
   ]
  },
  {
   "cell_type": "code",
   "execution_count": 25,
   "metadata": {},
   "outputs": [],
   "source": [
    "data.dropna(axis=0, how=\"any\", inplace=True)"
   ]
  },
  {
   "cell_type": "code",
   "execution_count": 27,
   "metadata": {},
   "outputs": [],
   "source": [
    "data.dropna(inplace=True)"
   ]
  },
  {
   "cell_type": "code",
   "execution_count": 26,
   "metadata": {},
   "outputs": [
    {
     "name": "stdout",
     "output_type": "stream",
     "text": [
      "<class 'pandas.core.frame.DataFrame'>\n",
      "Int64Index: 3498 entries, 0 to 3535\n",
      "Data columns (total 20 columns):\n",
      " #   Column                    Non-Null Count  Dtype  \n",
      "---  ------                    --------------  -----  \n",
      " 0   Reference Id              3498 non-null   object \n",
      " 1   Name                      3498 non-null   object \n",
      " 2   Off-time Status           3498 non-null   object \n",
      " 3   Off-time Duration (Days)  3498 non-null   float64\n",
      " 4   Requester Name            3498 non-null   object \n",
      " 5   Requester Department      3498 non-null   object \n",
      " 6   Requester Eid             3498 non-null   object \n",
      " 7   Requesting Date Time      3498 non-null   object \n",
      " 8   Service Department        3498 non-null   object \n",
      " 9   Service Unit              3498 non-null   object \n",
      " 10  SLA Hours                 3498 non-null   int64  \n",
      " 11  Picked By                 3498 non-null   object \n",
      " 12  Workflow Status           3498 non-null   object \n",
      " 13  Date Time Picked          3498 non-null   object \n",
      " 14  Resolved By               3498 non-null   object \n",
      " 15  Task Owner Department     3498 non-null   object \n",
      " 16  Created                   3498 non-null   object \n",
      " 17  Final Rating              3498 non-null   object \n",
      " 18  Year                      3498 non-null   int64  \n",
      " 19  Request Picked            3498 non-null   int64  \n",
      "dtypes: float64(1), int64(3), object(16)\n",
      "memory usage: 573.9+ KB\n"
     ]
    }
   ],
   "source": [
    "data.info()"
   ]
  },
  {
   "attachments": {},
   "cell_type": "markdown",
   "metadata": {},
   "source": [
    "datetime datatype= requesting date time,  Date Time Picked, Created "
   ]
  },
  {
   "cell_type": "code",
   "execution_count": 30,
   "metadata": {},
   "outputs": [],
   "source": [
    "data['Requesting Date Time'] = pd.to_datetime(data['Requesting Date Time'])\n",
    "data['Date Time Picked'] = pd.to_datetime(data['Date Time Picked'])\n",
    "data['Created'] = pd.to_datetime(data['Created'])"
   ]
  },
  {
   "cell_type": "code",
   "execution_count": 31,
   "metadata": {},
   "outputs": [
    {
     "name": "stdout",
     "output_type": "stream",
     "text": [
      "<class 'pandas.core.frame.DataFrame'>\n",
      "Int64Index: 3498 entries, 0 to 3535\n",
      "Data columns (total 20 columns):\n",
      " #   Column                    Non-Null Count  Dtype         \n",
      "---  ------                    --------------  -----         \n",
      " 0   Reference Id              3498 non-null   object        \n",
      " 1   Name                      3498 non-null   object        \n",
      " 2   Off-time Status           3498 non-null   object        \n",
      " 3   Off-time Duration (Days)  3498 non-null   float64       \n",
      " 4   Requester Name            3498 non-null   object        \n",
      " 5   Requester Department      3498 non-null   object        \n",
      " 6   Requester Eid             3498 non-null   object        \n",
      " 7   Requesting Date Time      3498 non-null   datetime64[ns]\n",
      " 8   Service Department        3498 non-null   object        \n",
      " 9   Service Unit              3498 non-null   object        \n",
      " 10  SLA Hours                 3498 non-null   int64         \n",
      " 11  Picked By                 3498 non-null   object        \n",
      " 12  Workflow Status           3498 non-null   object        \n",
      " 13  Date Time Picked          3498 non-null   datetime64[ns]\n",
      " 14  Resolved By               3498 non-null   object        \n",
      " 15  Task Owner Department     3498 non-null   object        \n",
      " 16  Created                   3498 non-null   datetime64[ns]\n",
      " 17  Final Rating              3498 non-null   object        \n",
      " 18  Year                      3498 non-null   int64         \n",
      " 19  Request Picked            3498 non-null   int64         \n",
      "dtypes: datetime64[ns](3), float64(1), int64(3), object(13)\n",
      "memory usage: 573.9+ KB\n"
     ]
    }
   ],
   "source": [
    "data.info()"
   ]
  },
  {
   "cell_type": "code",
   "execution_count": 33,
   "metadata": {},
   "outputs": [],
   "source": [
    "data.to_csv('~/Desktop/data_assessment_cleaned.csv', index=False)"
   ]
  },
  {
   "cell_type": "code",
   "execution_count": null,
   "metadata": {},
   "outputs": [],
   "source": []
  }
 ],
 "metadata": {
  "kernelspec": {
   "display_name": "Python 3",
   "language": "python",
   "name": "python3"
  },
  "language_info": {
   "codemirror_mode": {
    "name": "ipython",
    "version": 3
   },
   "file_extension": ".py",
   "mimetype": "text/x-python",
   "name": "python",
   "nbconvert_exporter": "python",
   "pygments_lexer": "ipython3",
   "version": "3.9.6 (default, Nov  7 2022, 23:33:46) \n[Clang 14.0.0 (clang-1400.0.29.102)]"
  },
  "orig_nbformat": 4,
  "vscode": {
   "interpreter": {
    "hash": "9e1518b310e1ed939994a6b34f2e1b7757368590835a3c4eea23eaf2a737407d"
   }
  }
 },
 "nbformat": 4,
 "nbformat_minor": 2
}
